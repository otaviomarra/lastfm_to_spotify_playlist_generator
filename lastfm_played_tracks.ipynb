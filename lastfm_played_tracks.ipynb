{
 "cells": [
  {
   "source": [
    "We'll try to fetch the artists and tracks I listened to in a specific period from lastfm and see if we can enrich this info with spotify data (because it only allows to 50 last tracks in a beta api)"
   ],
   "cell_type": "markdown",
   "metadata": {}
  },
  {
   "cell_type": "code",
   "execution_count": 1,
   "metadata": {},
   "outputs": [],
   "source": [
    "import requests as re\n",
    "#import numpy as np\n",
    "import time\n",
    "import pandas as pd\n",
    "import datetime\n",
    "from datetime import date, timedelta\n",
    "from IPython.core.display import clear_output\n",
    "import json\n",
    "import requests_cache"
   ]
  },
  {
   "source": [
    "## Lastfm API - my played tracks API"
   ],
   "cell_type": "markdown",
   "metadata": {}
  },
  {
   "cell_type": "code",
   "execution_count": 2,
   "metadata": {},
   "outputs": [],
   "source": [
    "#create a request cache\n",
    "requests_cache.install_cache('get_recent_tracks_cache')"
   ]
  },
  {
   "cell_type": "code",
   "execution_count": 3,
   "metadata": {},
   "outputs": [],
   "source": [
    "# define a function to generate the array for each response\n",
    "def structure_table(_artist, _song, _mbid, _date):\n",
    "    _arr  = [_artist, _song, _date]\n",
    "    return _arr\n",
    "\n",
    "#define an iteration fuction to work on each page, run the array generation function and append it to a final response array\n",
    "def page_iterator(_response):\n",
    "    for i in range(len(_response)):\n",
    "        r = structure_table(_response[i]['artist']['#text'],_response[i]['name'], _response[i]['mbid'], _response[i]['date']['uts'])\n",
    "        #append to the result array\n",
    "        responses.append(r)"
   ]
  },
  {
   "cell_type": "code",
   "execution_count": 4,
   "metadata": {},
   "outputs": [],
   "source": [
    "#Get the tracks played from 2020 until yesterday\n",
    "start_date = datetime.date(2020,1,1)\n",
    "_from = int(time.mktime(start_date.timetuple()))\n",
    "\n",
    "responses = []\n",
    "#Define header\n",
    "headers = {'user-agent': 'my_played_tracks'}\n",
    "\n",
    "#First request\n",
    "params = {\n",
    "        'method': 'user.getrecenttracks',\n",
    "        'limit': 200,\n",
    "        'api_key': 'cf786f78db52a45f40f6e7b573b7d211',\n",
    "        'format': 'json',\n",
    "        'user': 'ommarra',\n",
    "        'extended': 0,\n",
    "        'from':_from,\n",
    "        'page': 1\n",
    "        }\n",
    "\n",
    "response = re.get('http://ws.audioscrobbler.com/2.0/', headers = headers, params = params)\n",
    "response = response.json()['recenttracks']\n",
    "page_iterator(response['track'])\n",
    "\n",
    "#get the total pages\n",
    "_total_pages = int(response['@attr']['totalPages'])\n",
    "_page = int(response['@attr']['page']) + 1"
   ]
  },
  {
   "cell_type": "code",
   "execution_count": 5,
   "metadata": {},
   "outputs": [
    {
     "output_type": "stream",
     "name": "stdout",
     "text": [
      "requesting page 62 from 62 pages\n"
     ]
    }
   ],
   "source": [
    "#loop through all other pages\n",
    "while _page <= _total_pages:\n",
    "    #Just so we can keep an eye on it\n",
    "    clear_output(wait=True)\n",
    "    print(\"requesting page\", _page, \"from\", _total_pages, \"pages\")\n",
    "\n",
    "    params = {\n",
    "        'method': 'user.getrecenttracks',\n",
    "        'limit': 200,\n",
    "        'api_key': 'cf786f78db52a45f40f6e7b573b7d211',\n",
    "        'format': 'json',\n",
    "        'user': 'ommarra',\n",
    "        'extended': 0,\n",
    "        'from': _from,\n",
    "        'page': _page\n",
    "        }\n",
    "\n",
    "    response = re.get('http://ws.audioscrobbler.com/2.0/', headers = headers, params = params)\n",
    "    \n",
    "    if response.status_code == 200:\n",
    "        response = response.json()['recenttracks']\n",
    "        page_iterator(response['track'])\n",
    "    else:\n",
    "        print(\"error:\", response.status_code)\n",
    "        break\n",
    "    \n",
    "    # If not cached, sleep to keep the api requests per second low\n",
    "    if not getattr(response, 'from_cache', False):\n",
    "        time.sleep(0.2)\n",
    "\n",
    "    #add pagination\n",
    "\n",
    "    _page = int(response['@attr']['page']) + 1"
   ]
  },
  {
   "cell_type": "code",
   "execution_count": 6,
   "metadata": {},
   "outputs": [],
   "source": [
    "#Saving the results to a csv file\n",
    "pd.DataFrame(responses).to_csv(\"played_tracks.csv\", index = False)"
   ]
  }
 ],
 "metadata": {
  "kernelspec": {
   "display_name": "Python 3",
   "language": "python",
   "name": "python3"
  },
  "language_info": {
   "codemirror_mode": {
    "name": "ipython",
    "version": 3
   },
   "file_extension": ".py",
   "mimetype": "text/x-python",
   "name": "python",
   "nbconvert_exporter": "python",
   "pygments_lexer": "ipython3",
   "version": "3.8.5-final"
  }
 },
 "nbformat": 4,
 "nbformat_minor": 4
}
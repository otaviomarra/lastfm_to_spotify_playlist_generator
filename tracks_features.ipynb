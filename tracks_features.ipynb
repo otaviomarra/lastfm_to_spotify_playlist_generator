{
 "cells": [
  {
   "source": [
    "We'll try to fetch the artists and tracks I listened to in a specific period from lastfm and see if we can encirh this info with spotify data (because it only allows to 50 last tracks in a beta api)\n",
    "After that we can try som simple ML models on it :D "
   ],
   "cell_type": "markdown",
   "metadata": {}
  },
  {
   "cell_type": "code",
   "execution_count": 2,
   "metadata": {},
   "outputs": [],
   "source": [
    "import requests as re\n",
    "#import numpy as np\n",
    "import time\n",
    "import pandas as pd\n",
    "import datetime\n",
    "from datetime import date, timedelta\n",
    "from IPython.core.display import clear_output\n",
    "import json\n",
    "import requests_cache"
   ]
  },
  {
   "source": [
    "### Pre-work"
   ],
   "cell_type": "markdown",
   "metadata": {}
  },
  {
   "cell_type": "code",
   "execution_count": 6,
   "metadata": {},
   "outputs": [],
   "source": [
    "#Get the csv from the last request\n",
    "#COLUMNS 0 -> BAND NAME\n",
    "#COLUMNS 1 -> SONG NAME\n",
    "#COLUMNS 2 -> PLAYED AT UNIX TIMESTAMP\n",
    "tracks = pd.read_csv('played_tracks.csv')"
   ]
  },
  {
   "cell_type": "code",
   "execution_count": 7,
   "metadata": {},
   "outputs": [],
   "source": [
    "\n",
    "tracks.drop(tracks.columns[2], axis = 1, inplace = True)\n",
    "#clear duplicate columns\n",
    "tracks = tracks.drop_duplicates()"
   ]
  },
  {
   "source": [
    "## Spotify API"
   ],
   "cell_type": "markdown",
   "metadata": {}
  },
  {
   "cell_type": "code",
   "execution_count": 8,
   "metadata": {},
   "outputs": [],
   "source": [
    "#create a request cache\n",
    "requests_cache.install_cache('tags_for_tracks_cache')"
   ]
  },
  {
   "cell_type": "code",
   "execution_count": 9,
   "metadata": {
    "tags": []
   },
   "outputs": [],
   "source": [
    "#Authentication - getting an access token\n",
    "\n",
    "auth_response = re.post('https://accounts.spotify.com/api/token', {\n",
    "    'grant_type': 'client_credentials',\n",
    "    'client_id': '6cb782c1b0404843b3e5a06e8361cb6e',\n",
    "    'client_secret': 'a32c28deab714fa89091395089cbca90',\n",
    "})\n",
    "\n",
    "# convert the response to JSON\n",
    "auth_response_data = auth_response.json()\n",
    "\n",
    "# save the access token\n",
    "access_token = auth_response_data['access_token']\n",
    "\n",
    "#create a header with the access token\n",
    "headers = {'Authorization': 'Bearer {token}'.format(token=access_token)}"
   ]
  },
  {
   "cell_type": "code",
   "execution_count": 12,
   "metadata": {},
   "outputs": [
    {
     "output_type": "execute_result",
     "data": {
      "text/plain": [
       "'Interpol'"
      ]
     },
     "metadata": {},
     "execution_count": 12
    }
   ],
   "source": [
    "tracks.iloc[0][0]"
   ]
  },
  {
   "cell_type": "code",
   "execution_count": 14,
   "metadata": {},
   "outputs": [],
   "source": [
    "#first request test\n",
    "song_name = tracks.iloc[0][0]\n",
    "band_name = tracks.iloc[0][1]\n",
    "params = {'q' : song_name,\n",
    "    'type': 'track'}\n",
    "\n",
    "request = re.get('https://api.spotify.com/v1/search', headers = headers, params = params)"
   ]
  },
  {
   "cell_type": "code",
   "execution_count": 54,
   "metadata": {},
   "outputs": [],
   "source": [
    "df = pd.json_normalize(request.json()['tracks'])"
   ]
  },
  {
   "cell_type": "code",
   "execution_count": 57,
   "metadata": {},
   "outputs": [
    {
     "output_type": "execute_result",
     "data": {
      "text/plain": [
       "                                                href  \\\n",
       "0  https://api.spotify.com/v1/search?query=Interp...   \n",
       "\n",
       "                                               items  limit  \\\n",
       "0  [{'album': {'album_type': 'album', 'artists': ...     20   \n",
       "\n",
       "                                                next  offset previous  total  \n",
       "0  https://api.spotify.com/v1/search?query=Interp...       0     None   1039  "
      ],
      "text/html": "<div>\n<style scoped>\n    .dataframe tbody tr th:only-of-type {\n        vertical-align: middle;\n    }\n\n    .dataframe tbody tr th {\n        vertical-align: top;\n    }\n\n    .dataframe thead th {\n        text-align: right;\n    }\n</style>\n<table border=\"1\" class=\"dataframe\">\n  <thead>\n    <tr style=\"text-align: right;\">\n      <th></th>\n      <th>href</th>\n      <th>items</th>\n      <th>limit</th>\n      <th>next</th>\n      <th>offset</th>\n      <th>previous</th>\n      <th>total</th>\n    </tr>\n  </thead>\n  <tbody>\n    <tr>\n      <th>0</th>\n      <td>https://api.spotify.com/v1/search?query=Interp...</td>\n      <td>[{'album': {'album_type': 'album', 'artists': ...</td>\n      <td>20</td>\n      <td>https://api.spotify.com/v1/search?query=Interp...</td>\n      <td>0</td>\n      <td>None</td>\n      <td>1039</td>\n    </tr>\n  </tbody>\n</table>\n</div>"
     },
     "metadata": {},
     "execution_count": 57
    }
   ],
   "source": [
    "df.head()"
   ]
  }
 ],
 "metadata": {
  "kernelspec": {
   "display_name": "Python 3",
   "language": "python",
   "name": "python3"
  },
  "language_info": {
   "codemirror_mode": {
    "name": "ipython",
    "version": 3
   },
   "file_extension": ".py",
   "mimetype": "text/x-python",
   "name": "python",
   "nbconvert_exporter": "python",
   "pygments_lexer": "ipython3",
   "version": "3.8.5-final"
  }
 },
 "nbformat": 4,
 "nbformat_minor": 4
}
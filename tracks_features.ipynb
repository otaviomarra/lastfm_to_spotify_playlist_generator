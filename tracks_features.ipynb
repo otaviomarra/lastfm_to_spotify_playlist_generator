{
 "cells": [
  {
   "source": [
    "We'll try to fetch the artists and tracks I listened to in a specific period from lastfm and see if we can encirh this info with spotify data (because it only allows to 50 last tracks in a beta api)\n",
    "After that we can try som simple ML models on it :D "
   ],
   "cell_type": "markdown",
   "metadata": {}
  },
  {
   "cell_type": "code",
   "execution_count": 11,
   "metadata": {},
   "outputs": [],
   "source": [
    "import requests as re\n",
    "import numpy as np\n",
    "import time\n",
    "import pandas as pd\n",
    "import datetime\n",
    "from datetime import date, timedelta\n",
    "from IPython.core.display import clear_output\n",
    "import json\n",
    "import requests_cache"
   ]
  },
  {
   "source": [
    "### Pre-work"
   ],
   "cell_type": "markdown",
   "metadata": {}
  },
  {
   "cell_type": "code",
   "execution_count": 20,
   "metadata": {},
   "outputs": [],
   "source": [
    "#Get the csv from the last request\n",
    "played_tracks = pd.read_csv('played_tracks.csv')"
   ]
  },
  {
   "cell_type": "code",
   "execution_count": 21,
   "metadata": {},
   "outputs": [
    {
     "output_type": "execute_result",
     "data": {
      "text/plain": [
       "                 0                         1           2\n",
       "388      Kraftwerk  Prologue - 2009 Remaster  1603737695\n",
       "10018  Descendents         I Wanna Be a Bear  1584465871\n",
       "1932         Idles                    A Hymn  1601042935"
      ],
      "text/html": "<div>\n<style scoped>\n    .dataframe tbody tr th:only-of-type {\n        vertical-align: middle;\n    }\n\n    .dataframe tbody tr th {\n        vertical-align: top;\n    }\n\n    .dataframe thead th {\n        text-align: right;\n    }\n</style>\n<table border=\"1\" class=\"dataframe\">\n  <thead>\n    <tr style=\"text-align: right;\">\n      <th></th>\n      <th>0</th>\n      <th>1</th>\n      <th>2</th>\n    </tr>\n  </thead>\n  <tbody>\n    <tr>\n      <th>388</th>\n      <td>Kraftwerk</td>\n      <td>Prologue - 2009 Remaster</td>\n      <td>1603737695</td>\n    </tr>\n    <tr>\n      <th>10018</th>\n      <td>Descendents</td>\n      <td>I Wanna Be a Bear</td>\n      <td>1584465871</td>\n    </tr>\n    <tr>\n      <th>1932</th>\n      <td>Idles</td>\n      <td>A Hymn</td>\n      <td>1601042935</td>\n    </tr>\n  </tbody>\n</table>\n</div>"
     },
     "metadata": {},
     "execution_count": 21
    }
   ],
   "source": [
    "played_tracks.sample(3)"
   ]
  },
  {
   "cell_type": "code",
   "execution_count": 24,
   "metadata": {},
   "outputs": [],
   "source": [
    "#search by track and artist name\n",
    "    #first we'll search by track and then narrow down by artist name\n",
    "\n",
    "#cleanup dataset fo the unique values\n",
    "played_tracks.drop(played_tracks.columns[2], axis = 1, inplace = True)"
   ]
  },
  {
   "source": [
    "## Spotify API"
   ],
   "cell_type": "markdown",
   "metadata": {}
  },
  {
   "cell_type": "code",
   "execution_count": 2,
   "metadata": {},
   "outputs": [],
   "source": [
    "#create a request cache\n",
    "requests_cache.install_cache('tags_for_tracks_cache')"
   ]
  },
  {
   "cell_type": "code",
   "execution_count": null,
   "metadata": {
    "tags": []
   },
   "outputs": [],
   "source": [
    "#Authentication - getting an access token\n",
    "\n",
    "auth_response = re.post('https://accounts.spotify.com/api/token', {\n",
    "    'grant_type': 'client_credentials',\n",
    "    'client_id': '6cb782c1b0404843b3e5a06e8361cb6e',\n",
    "    'client_secret': 'a32c28deab714fa89091395089cbca90',\n",
    "})\n",
    "\n",
    "# convert the response to JSON\n",
    "auth_response_data = auth_response.json()\n",
    "\n",
    "# save the access token\n",
    "access_token = auth_response_data['access_token']\n",
    "\n",
    "#create a header with the access token\n",
    "headers = {'Authorization': 'Bearer {token}'.format(token=access_token)}"
   ]
  }
 ],
 "metadata": {
  "kernelspec": {
   "display_name": "Python 3",
   "language": "python",
   "name": "python3"
  },
  "language_info": {
   "codemirror_mode": {
    "name": "ipython",
    "version": 3
   },
   "file_extension": ".py",
   "mimetype": "text/x-python",
   "name": "python",
   "nbconvert_exporter": "python",
   "pygments_lexer": "ipython3",
   "version": "3.8.5-final"
  }
 },
 "nbformat": 4,
 "nbformat_minor": 4
}
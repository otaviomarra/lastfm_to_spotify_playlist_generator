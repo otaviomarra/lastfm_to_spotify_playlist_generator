{
 "cells": [
  {
   "source": [
    "We'll try to fetch the artists and tracks I listened to in a specific period from lastfm and see if we can encirh this info with spotify data (because it only allows to 50 last tracks in a beta api)\n",
    "After that we can try som simple ML models on it :D "
   ],
   "cell_type": "markdown",
   "metadata": {}
  },
  {
   "cell_type": "code",
   "execution_count": 1,
   "metadata": {},
   "outputs": [],
   "source": [
    "import requests as re\n",
    "#import numpy as np\n",
    "import time\n",
    "import pandas as pd\n",
    "import datetime\n",
    "from datetime import date, timedelta\n",
    "import json\n",
    "import requests_cache\n",
    "from IPython.display import clear_output"
   ]
  },
  {
   "source": [
    "### Pre-work"
   ],
   "cell_type": "markdown",
   "metadata": {}
  },
  {
   "cell_type": "code",
   "execution_count": 2,
   "metadata": {},
   "outputs": [],
   "source": [
    "#Get the csv from the last request\n",
    "#COLUMNS 0 -> BAND NAME\n",
    "#COLUMNS 1 -> SONG NAME\n",
    "#COLUMNS 2 -> PLAYED AT UNIX TIMESTAMP\n",
    "tracks = pd.read_csv('played_tracks.csv')"
   ]
  },
  {
   "cell_type": "code",
   "execution_count": 3,
   "metadata": {},
   "outputs": [],
   "source": [
    "\n",
    "tracks.drop(tracks.columns[2], axis = 1, inplace = True)\n",
    "#clear duplicate columns\n",
    "tracks = tracks.drop_duplicates()\n",
    "#rename columns\n",
    "tracks.rename(mapper= {'0': 'band_name', '1': 'song_name'}, axis = 1, inplace = True)"
   ]
  },
  {
   "source": [
    "## Spotify API"
   ],
   "cell_type": "markdown",
   "metadata": {}
  },
  {
   "cell_type": "code",
   "execution_count": 4,
   "metadata": {},
   "outputs": [],
   "source": [
    "#create a request cache\n",
    "requests_cache.install_cache('track_features_cache')"
   ]
  },
  {
   "cell_type": "code",
   "execution_count": 5,
   "metadata": {},
   "outputs": [],
   "source": [
    "#song id\n",
    "#request.json()['tracks']['items'][0]['id']\n",
    "#artist\n",
    "#request.json()['tracks']['items'][0]['album']['artists'][0]['name']"
   ]
  },
  {
   "cell_type": "code",
   "execution_count": 71,
   "metadata": {},
   "outputs": [],
   "source": [
    "#define a function for the api request that returns the json response\n",
    "def search_song_request(_song_name, _band_name, i):\n",
    "    r = re.get('https://api.spotify.com/v1/search?' + 'q=artist:' + _band_name + '%20track:' + _song_name + '&market:from_token' + '&type=track&limit=50&include_external=audio' , headers = headers)\n",
    "    return r.json()['tracks']['items']\n",
    "\n",
    "#define a function to make the api request, iterate on the response and get the song id based on the artist\n",
    "def get_song_id(_song_name, _band_name):\n",
    "    clear_output(wait=True)\n",
    "    print(\"working on song\", _song_name, \"by\", _band_name, \"starting at\", datetime.now())\n",
    "    _response = search_song_request(_song_name, _band_name)\n",
    "    for i in range(len(_response)):\n",
    "        #there must be a better way of doing this byt it'll work for now: we iterate through the entire artist list - there is a lot of useless data in the response\n",
    "        if _response[i]['album']['artists'][0]['name'] == _band_name:\n",
    "            return _response[i]['id']\n",
    "        else:\n",
    "            pass\n",
    "    #if no returns, we could not find id, so it returns not_found\n",
    "    return 'not_found'\n"
   ]
  },
  {
   "cell_type": "code",
   "execution_count": 7,
   "metadata": {
    "tags": []
   },
   "outputs": [],
   "source": [
    "#Authentication - getting an access token\n",
    "auth_response = re.post('https://accounts.spotify.com/api/token', {\n",
    "    'grant_type': 'client_credentials',\n",
    "    'client_id': '6cb782c1b0404843b3e5a06e8361cb6e',\n",
    "    'client_secret': 'a32c28deab714fa89091395089cbca90',\n",
    "})\n",
    "\n",
    "# convert the response to JSON\n",
    "auth_response_data = auth_response.json()\n",
    "\n",
    "# save the access token\n",
    "access_token = auth_response_data['access_token']\n",
    "\n",
    "#create a header with the access token\n",
    "headers = {'Authorization': 'Bearer {token}'.format(token=access_token)}"
   ]
  },
  {
   "cell_type": "code",
   "execution_count": null,
   "metadata": {},
   "outputs": [],
   "source": [
    "print(\"start:\", datetime.datetime.now())"
   ]
  },
  {
   "cell_type": "code",
   "execution_count": 79,
   "metadata": {},
   "outputs": [
    {
     "output_type": "execute_result",
     "data": {
      "text/plain": [
       "Int64Index([1535, 11914, 3197, 8131, 7459, 7784, 6358, 9011, 9233, 10289], dtype='int64')"
      ]
     },
     "metadata": {},
     "execution_count": 79
    }
   ],
   "source": [
    "tracks['sp_id'] = tracks.apply(lambda x: get_song_id(x['song_name'], x['band_name']), axis = 1)"
   ]
  },
  {
   "cell_type": "code",
   "execution_count": null,
   "metadata": {},
   "outputs": [],
   "source": [
    "print(\"saving file at\", datetime.now())\n",
    "tracks.to_csv('tracks_features.csv', index=False)\n",
    "print(\"all finished at\", datetime.now())"
   ]
  }
 ],
 "metadata": {
  "kernelspec": {
   "display_name": "Python 3",
   "language": "python",
   "name": "python3"
  },
  "language_info": {
   "codemirror_mode": {
    "name": "ipython",
    "version": 3
   },
   "file_extension": ".py",
   "mimetype": "text/x-python",
   "name": "python",
   "nbconvert_exporter": "python",
   "pygments_lexer": "ipython3",
   "version": "3.8.5-final"
  }
 },
 "nbformat": 4,
 "nbformat_minor": 4
}
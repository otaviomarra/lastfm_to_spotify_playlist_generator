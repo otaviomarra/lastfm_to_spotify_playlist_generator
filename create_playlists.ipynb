{
 "metadata": {
  "language_info": {
   "codemirror_mode": {
    "name": "ipython",
    "version": 3
   },
   "file_extension": ".py",
   "mimetype": "text/x-python",
   "name": "python",
   "nbconvert_exporter": "python",
   "pygments_lexer": "ipython3",
   "version": "3.8.5-final"
  },
  "orig_nbformat": 2,
  "kernelspec": {
   "name": "python37564bit5c3fa59fa4044b95a227c8834cb0cedd",
   "display_name": "Python 3.7.5 64-bit",
   "language": "python"
  }
 },
 "nbformat": 4,
 "nbformat_minor": 2,
 "cells": [
  {
   "cell_type": "code",
   "execution_count": 3,
   "metadata": {},
   "outputs": [],
   "source": [
    "import time\n",
    "import json\n",
    "import datetime\n",
    "from math import ceil\n",
    "from datetime import date, timedelta, datetime\n",
    "\n",
    "import spotipy\n",
    "import spotipy.util as util\n",
    "import numpy as np\n",
    "import pandas as pd\n",
    "import requests_cache\n",
    "import requests as re"
   ]
  },
  {
   "cell_type": "code",
   "execution_count": 80,
   "metadata": {},
   "outputs": [],
   "source": [
    "df = pd.read_csv('data/clusterization.csv')\n",
    "df = df[['label', 'id']]\n",
    "df['uris'] = 'spotify:track:' + df['id']"
   ]
  },
  {
   "cell_type": "code",
   "execution_count": 5,
   "metadata": {},
   "outputs": [
    {
     "output_type": "execute_result",
     "data": {
      "text/plain": [
       "      label                      id                                   uri\n",
       "4685      3  7Fd9g5y4q8ApG79VQeLfop  spotify:track:7Fd9g5y4q8ApG79VQeLfop"
      ],
      "text/html": "<div>\n<style scoped>\n    .dataframe tbody tr th:only-of-type {\n        vertical-align: middle;\n    }\n\n    .dataframe tbody tr th {\n        vertical-align: top;\n    }\n\n    .dataframe thead th {\n        text-align: right;\n    }\n</style>\n<table border=\"1\" class=\"dataframe\">\n  <thead>\n    <tr style=\"text-align: right;\">\n      <th></th>\n      <th>label</th>\n      <th>id</th>\n      <th>uri</th>\n    </tr>\n  </thead>\n  <tbody>\n    <tr>\n      <th>4685</th>\n      <td>3</td>\n      <td>7Fd9g5y4q8ApG79VQeLfop</td>\n      <td>spotify:track:7Fd9g5y4q8ApG79VQeLfop</td>\n    </tr>\n  </tbody>\n</table>\n</div>"
     },
     "metadata": {},
     "execution_count": 5
    }
   ],
   "source": [
    "df.sample()"
   ]
  },
  {
   "source": [
    "#### [get your token here](https://developer.spotify.com/console/post-playlist-tracks/?playlist_id=%7Bplaylist%7D&position=&uris=spotify%3Atrack%3A7uuWlqHI41LkdXn4pcqI1h%2Cspotify%3Atrack%3A15jdwHb5nOWJrxXvPavXTR%2Cspotify%3Atrack%3A2LwM4JgvJ3SiIaQOIXJT6n)"
   ],
   "cell_type": "markdown",
   "metadata": {}
  },
  {
   "cell_type": "code",
   "execution_count": 72,
   "metadata": {},
   "outputs": [],
   "source": [
    "#authentication. for now it is a manyally requst token but I'll come back to that later\n",
    "access_token = 'BQA0P4vTq7_VpbAZMdd_xwrRY1-4_WuaxWYMPYkEID-nNf-3Tu7Dw_zpwZJn-aLB3vyKOGUAxpZOfcGy95MBN3GksyXwo3Ro7aoxIA58TMrq04GQdqWSzFu2Lp7fv_uxjCDKgIY-bkjKhpztJyTYeLIEKo0Rjo8Jv8kQG_kC8CP-CSl7CXZt61eVK5fqkPTP8iFA2MBL'\n",
    "headers = {\"Content-Type\":\"application/json\", \"Authorization\":\"Bearer {token}\".format(token=access_token)}\n",
    "user_id = 'ommarra'"
   ]
  },
  {
   "source": [
    "### Creating the playlists\n",
    "\n",
    "**IMPORTANT:** the playlists should either be created at the same time or we'd need to manually create the playlists array with their ids\n",
    "If needed, you can manually delete the playlists on Spotify and then re-create them"
   ],
   "cell_type": "markdown",
   "metadata": {}
  },
  {
   "cell_type": "code",
   "execution_count": 9,
   "metadata": {},
   "outputs": [],
   "source": [
    "endpoint_url = \"https://api.spotify.com/v1/users/{user_id}/playlists\".format(user_id=user_id)\n",
    "\n",
    "playlists = {}\n",
    "for i in range(len(df['label'].unique())):\n",
    "    label = df['label'].unique()[i].item()\n",
    "    playlist_name = \"k-means-cluster-0\" + str(label)\n",
    "    request_body = json.dumps({\n",
    "            \"name\": playlist_name,\n",
    "            \"description\": \"k means generated. probably shitty\",\n",
    "            \"public\": True\n",
    "            })\n",
    "    r = re.post(url=endpoint_url, data=request_body, headers=headers)\n",
    "    #generate a dict with the labels and the playlist id - this will be used to add the songs later\n",
    "    playlists[label] = r.json()['id']"
   ]
  },
  {
   "source": [
    "### Adding songs to the playlists"
   ],
   "cell_type": "markdown",
   "metadata": {}
  },
  {
   "cell_type": "code",
   "execution_count": 113,
   "metadata": {},
   "outputs": [],
   "source": [
    "def add_songs_to_playlist(_songs, _playlist):\n",
    "    playlist = _playlist\n",
    "    url = \"https://api.spotify.com/v1/playlists/{playlist}/tracks\".format(playlist=playlist)\n",
    "    data = json.dumps({ 'uris': _songs })\n",
    "    response = re.post(url=url, data=data, headers=headers)\n",
    "    print(response.json())"
   ]
  },
  {
   "cell_type": "code",
   "execution_count": 118,
   "metadata": {
    "tags": []
   },
   "outputs": [
    {
     "output_type": "stream",
     "name": "stdout",
     "text": [
      "{'snapshot_id': 'MywwNjY0NjkxMTk4M2E2NmFhMmM1NzE2YzE3ZjM0NWM1OTdmYjllZjMw'}\n",
      "{'snapshot_id': 'NCw1YmFmMTY0NDA4M2Y5MTY2ZDY0M2JlOWQzYWM5NjBkMzRlMGJkMzBi'}\n",
      "{'snapshot_id': 'MywyOWJiYWYyMGQ3OTkyNDliOGFhMTE4MmVhYTdhNTViNjY1ZmJmZDMy'}\n",
      "{'snapshot_id': 'NCxiYTJmOTVhOGJmYmQ4MTRjMTg1MDIzN2E3ZjYwZjlkYzJhZDY2MTcy'}\n",
      "{'snapshot_id': 'Myw1Mjk5MWZmMjFmM2FiZTFkNjhkY2Y3ZWQyN2VmZjk4OGMyMDNlMTY2'}\n",
      "{'snapshot_id': 'NCxmMjkzODQyNDFhMDU1NjI2NDA4ZGUyYjVjMTdiMmRmYmFlMzliM2Vi'}\n",
      "{'snapshot_id': 'MyxjODFmZThkZTdmN2NlODA5YmQxYjA1NTc3M2RkNTZmY2EwYzRiNDcx'}\n",
      "{'snapshot_id': 'NCw0Yzc0YzFhNDM2YWZhMDdjNDMzNjI0OGM2YmMxZTVmMDJiZmVmNmY5'}\n"
     ]
    }
   ],
   "source": [
    "for key in playlists:\n",
    "    playlist = playlists[key]\n",
    "    #150 songs per playlist is a good starter. Later on I'd like to also limit the number of songs from the same artist\n",
    "    tempdf = df[df['label'] == key].sample(150) \n",
    "    #break it even to post the ids in chunks\n",
    "    splits = ceil(len(tempdf)/100)\n",
    "    chunks = np.array_split(tempdf, splits)\n",
    "    #format and call the function to every chunk\n",
    "    for i in range(len(chunks)):\n",
    "        songs = chunks[i]['uris'].to_json(orient='records')\n",
    "        add_songs_to_playlist(_songs=json.loads(songs), _playlist=playlist)        "
   ]
  }
 ]
}
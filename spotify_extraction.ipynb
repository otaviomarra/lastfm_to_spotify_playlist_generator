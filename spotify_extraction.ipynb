{
 "cells": [
  {
   "source": [
    "We'll try to fetch the artists and tracks I listened to in a specific period from lastfm and see if we can encirh this info with spotify data (because it only allows to 50 last tracks in a beta api)\n",
    "After that we can try som simple ML models on it :D "
   ],
   "cell_type": "markdown",
   "metadata": {}
  },
  {
   "cell_type": "code",
   "execution_count": 1,
   "metadata": {},
   "outputs": [],
   "source": [
    "import time\n",
    "import json\n",
    "import datetime\n",
    "from math import ceil\n",
    "from datetime import date, timedelta, datetime\n",
    "\n",
    "import numpy as np\n",
    "import pandas as pd\n",
    "import requests_cache\n",
    "import requests as re"
   ]
  },
  {
   "source": [
    "### Pre-work"
   ],
   "cell_type": "markdown",
   "metadata": {}
  },
  {
   "cell_type": "code",
   "execution_count": 186,
   "metadata": {},
   "outputs": [],
   "source": [
    "#Get the csv from the last request\n",
    "#COLUMNS 0 -> BAND NAME\n",
    "#COLUMNS 1 -> SONG NAME\n",
    "#COLUMNS 2 -> PLAYED AT UNIX TIMESTAMP\n",
    "tracks = pd.read_csv('data/played_tracks.csv')"
   ]
  },
  {
   "cell_type": "code",
   "execution_count": 187,
   "metadata": {},
   "outputs": [],
   "source": [
    "\n",
    "tracks.drop(tracks.columns[2], axis = 1, inplace = True)\n",
    "#clear duplicate columns\n",
    "tracks = tracks.drop_duplicates()\n",
    "#rename columns\n",
    "tracks.rename(mapper= {'0': 'band_name', '1': 'song_name'}, axis = 1, inplace = True)"
   ]
  },
  {
   "source": [
    "## Spotify API\n",
    "\n",
    "### Get Song IDs"
   ],
   "cell_type": "markdown",
   "metadata": {}
  },
  {
   "cell_type": "code",
   "execution_count": 188,
   "metadata": {},
   "outputs": [],
   "source": [
    "#create a request cache\n",
    "requests_cache.install_cache('track_features_cache')"
   ]
  },
  {
   "cell_type": "code",
   "execution_count": 190,
   "metadata": {},
   "outputs": [],
   "source": [
    "#define a function for the api request that returns the json response\n",
    "def search_song_request(_song_name, _band_name):\n",
    "    r = re.get('https://api.spotify.com/v1/search?' + 'q=artist:' + _band_name + '%20track:' + _song_name + '&market:from_token' + '&type=track&limit=50&include_external=audio' , headers = headers)\n",
    "    try:\n",
    "        return r.json()['tracks']['items']\n",
    "    except:\n",
    "        return None\n",
    "\n",
    "#define a function to make the api request, iterate on the response and get the song id based on the artist\n",
    "def get_song_id(_song_name, _band_name):\n",
    "    _response = search_song_request(_song_name, _band_name)\n",
    "    if _response is not None:\n",
    "        for i in range(len(_response)):\n",
    "            #there must be a better way of doing this byt it'll work for now: we iterate through the entire artist list - there is a lot of useless data in the response\n",
    "            if _response[i]['album']['artists'][0]['name'] == _band_name:\n",
    "                return _response[i]['id']\n",
    "            else:\n",
    "                pass\n",
    "    #if no returns, we could not find id, so it returns not_found\n",
    "    return 'not_found'\n"
   ]
  },
  {
   "cell_type": "code",
   "execution_count": 2,
   "metadata": {
    "tags": []
   },
   "outputs": [],
   "source": [
    "#Authentication - getting an access token\n",
    "auth_response = re.post('https://accounts.spotify.com/api/token', {\n",
    "    'grant_type': 'client_credentials',\n",
    "    'client_id': '6cb782c1b0404843b3e5a06e8361cb6e',\n",
    "    'client_secret': 'a32c28deab714fa89091395089cbca90',\n",
    "})\n",
    "\n",
    "# convert the response to JSON\n",
    "auth_response_data = auth_response.json()\n",
    "\n",
    "# save the access token\n",
    "access_token = auth_response_data['access_token']\n",
    "\n",
    "#create a header with the access token\n",
    "headers = {'Authorization': 'Bearer {token}'.format(token=access_token)}"
   ]
  },
  {
   "cell_type": "code",
   "execution_count": 192,
   "metadata": {},
   "outputs": [
    {
     "output_type": "stream",
     "name": "stdout",
     "text": [
      "started api calls at 2020-12-13 12:46:17.315754\n",
      "done at 2020-12-13 12:46:30.674313\n"
     ]
    }
   ],
   "source": [
    "print(\"started api calls at\", datetime.now())\n",
    "tracks['sp_id'] = tracks.apply(lambda x: get_song_id(x['song_name'], x['band_name']), axis = 1)\n",
    "print(\"done at\", datetime.now())"
   ]
  },
  {
   "cell_type": "code",
   "execution_count": 195,
   "metadata": {},
   "outputs": [
    {
     "output_type": "execute_result",
     "data": {
      "text/plain": [
       "no_id\n",
       "False    5081\n",
       "True     1054\n",
       "Name: sp_id, dtype: int64"
      ]
     },
     "metadata": {},
     "execution_count": 195
    }
   ],
   "source": [
    "tracks['no_id'] = tracks['sp_id'].apply(lambda x: x == 'not_found')\n",
    "tracks.groupby('no_id').count()['sp_id']"
   ]
  },
  {
   "cell_type": "code",
   "execution_count": 197,
   "metadata": {},
   "outputs": [],
   "source": [
    "tracks.to_csv('data/tracks_ids.csv', index=False)"
   ]
  },
  {
   "source": [
    "### Get Song Features"
   ],
   "cell_type": "markdown",
   "metadata": {}
  },
  {
   "cell_type": "code",
   "execution_count": 4,
   "metadata": {},
   "outputs": [],
   "source": [
    "#tracks = pd.read_csv('data_extractions/tracks_ids.csv')\n",
    "#we can only get data for tracks with a Spotify ID\n",
    "tracks = tracks[tracks['no_id']==False]"
   ]
  },
  {
   "cell_type": "code",
   "execution_count": 5,
   "metadata": {},
   "outputs": [],
   "source": [
    "def get_song_features(_ids):\n",
    "    r = re.get('https://api.spotify.com/v1/audio-features?ids=' + _ids, headers=headers)\n",
    "    return r.json()\n"
   ]
  },
  {
   "cell_type": "code",
   "execution_count": 6,
   "metadata": {},
   "outputs": [],
   "source": [
    "#Create and empty DF to store the results\n",
    "cols = ['danceability',\n",
    "    'energy',\n",
    "    'key',\n",
    "    'loudness',\n",
    "    'mode',\n",
    "    'speechiness',\n",
    "    'acousticness',\n",
    "    'instrumentalness',\n",
    "    'liveness',\n",
    "    'valence',\n",
    "    'tempo',\n",
    "    'type',\n",
    "    'id',\n",
    "    'uri',\n",
    "    'track_href',\n",
    "    'analysis_url',\n",
    "    'duration_ms',\n",
    "    'time_signature',]\n",
    "\n",
    "song_features = pd.DataFrame(columns=cols)"
   ]
  },
  {
   "cell_type": "code",
   "execution_count": 7,
   "metadata": {},
   "outputs": [],
   "source": [
    "#we can make a single request with a csv of up to 100 song ids at once. So we break the dataframe into smaller arrays to make multiple requests\n",
    "splits = ceil(len(tracks)/100)\n",
    "chunks = np.array_split(tracks, splits)\n",
    "\n",
    "for i in range(len(chunks)):\n",
    "    #transform the IDs from each chun into a csv list to be used at the api request\n",
    "    song_ids = chunks[i]['sp_id'].to_string(header=False,index=False).replace('\\n ',',').lstrip()   \n",
    "    #make the api request\n",
    "    r = get_song_features(song_ids)\n",
    "    #normalize and append the reults to a final dataframe\n",
    "    temp = pd.json_normalize(r['audio_features'])\n",
    "    song_features = song_features.append(temp)\n",
    "\n",
    "song_features.set_index('id', inplace=True)\n",
    "song_features.to_csv('data/songs_features.csv')"
   ]
  }
 ],
 "metadata": {
  "kernelspec": {
   "display_name": "Python 3",
   "language": "python",
   "name": "python3"
  },
  "language_info": {
   "codemirror_mode": {
    "name": "ipython",
    "version": 3
   },
   "file_extension": ".py",
   "mimetype": "text/x-python",
   "name": "python",
   "nbconvert_exporter": "python",
   "pygments_lexer": "ipython3",
   "version": "3.8.5-final"
  }
 },
 "nbformat": 4,
 "nbformat_minor": 4
}
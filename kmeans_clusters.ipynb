{
 "metadata": {
  "language_info": {
   "codemirror_mode": {
    "name": "ipython",
    "version": 3
   },
   "file_extension": ".py",
   "mimetype": "text/x-python",
   "name": "python",
   "nbconvert_exporter": "python",
   "pygments_lexer": "ipython3",
   "version": "3.8.5"
  },
  "orig_nbformat": 2,
  "kernelspec": {
   "name": "python395jvsc74a57bd0916dbcbb3f70747c44a77c7bcd40155683ae19c65e1c03b4aa3499c5328201f1",
   "display_name": "Python 3.8.5 64-bit"
  },
  "metadata": {
   "interpreter": {
    "hash": "916dbcbb3f70747c44a77c7bcd40155683ae19c65e1c03b4aa3499c5328201f1"
   }
  }
 },
 "nbformat": 4,
 "nbformat_minor": 2,
 "cells": [
  {
   "cell_type": "code",
   "execution_count": 1,
   "metadata": {},
   "outputs": [],
   "source": [
    "import numpy as np\n",
    "import pandas as pd\n",
    "import plotly.express as px\n",
    "import plotly.graph_objects as go\n",
    "from sklearn.cluster import KMeans\n",
    "from pandas_profiling import ProfileReport\n",
    "from sklearn.preprocessing import MinMaxScaler"
   ]
  },
  {
   "cell_type": "code",
   "execution_count": null,
   "metadata": {},
   "outputs": [],
   "source": [
    "features = pd.read_csv('../data/spotify_songs_features.csv')\n",
    "played =  pd.read_csv('../data/lastfm_played_tracks.csv')\n",
    "ids = pd.read_csv('../data/spotify_tracks_ids.csv')\n",
    "raw = played.join(features.join(ids.set_index('sp_id'), on='id').set_index(['artist', 'song']), on=['artist', 'song'], how='inner')\n",
    "raw.drop(columns = ['unix_timestamp', 'key', 'mode', 'type', 'uri', 'track_href', 'analysis_url'], axis = 1, inplace  =True)\n",
    "df = raw.drop_duplicates()"
   ]
  },
  {
   "cell_type": "code",
   "execution_count": null,
   "metadata": {},
   "outputs": [],
   "source": [
    "profile = ProfileReport(\n",
    "    df.drop(columns = ['artist', 'song', 'id', 'duration_ms', 'time_signature', 'no_id', 'tempo'],axis=1), \n",
    "    title='Song features 2019',\n",
    "    html={'style':{'full_width':True}})\n",
    "profile.to_file('profiling.html')"
   ]
  },
  {
   "cell_type": "code",
   "execution_count": null,
   "metadata": {},
   "outputs": [],
   "source": [
    "#Visualizing all features distributions on scatterplots\n",
    "fig = px.scatter_matrix(df.drop(columns = ['artist', 'song', 'id', 'duration_ms', 'time_signature', 'no_id', 'tempo'],axis=1),\n",
    "width=1200, height=1600)\n",
    "fig.show()"
   ]
  },
  {
   "cell_type": "code",
   "execution_count": null,
   "metadata": {},
   "outputs": [],
   "source": [
    "#Defining how many clusters would fit best for our data\n",
    "\n",
    "X=df.drop(columns = ['artist', 'song', 'id', 'duration_ms', 'time_signature', 'no_id'],axis=1)\n",
    "\n",
    "#using StandardScaler to normalize allv alues between 0 and 1\n",
    "scaler = MinMaxScaler()\n",
    "scaler.fit(X)\n",
    "X=scaler.transform(X)\n",
    "\n",
    "#get the inertial value for 1-1 clusters\n",
    "inertia = []\n",
    "for i in range(1,11):\n",
    "    kmeans = KMeans(\n",
    "        n_clusters=i, init=\"k-means++\",\n",
    "        n_init=10,\n",
    "        tol=1e-04, random_state=4\n",
    "    )\n",
    "    kmeans.fit(X)\n",
    "    inertia.append(kmeans.inertia_)\n",
    "#plot the chart so we can find the elbolw\n",
    "fig = go.Figure(data=go.Scatter(x=np.arange(1,11),y=inertia))\n",
    "fig.update_layout(title=\"Inertia vs Cluster Number\",xaxis=dict(range=[0,11],title=\"Cluster Number\"),\n",
    "                  yaxis={'title':'Inertia'},\n",
    "                 )"
   ]
  },
  {
   "cell_type": "code",
   "execution_count": null,
   "metadata": {},
   "outputs": [],
   "source": [
    "#implementing the k-means model\n",
    "#I decided to go with 4. Whatever\n",
    "kmeans = KMeans(\n",
    "        n_clusters=4, \n",
    "        init=\"k-means++\",\n",
    "        n_init=10,\n",
    "        max_iter=1000,\n",
    "        tol=1e-04, \n",
    "        random_state=4)\n",
    "kmeans.fit(X) #X from the above cell"
   ]
  },
  {
   "cell_type": "code",
   "execution_count": null,
   "metadata": {},
   "outputs": [],
   "source": [
    "clusters=pd.DataFrame(X,columns=kdf.drop(columns=[\"id\", 'count'],axis=1).columns)\n",
    "clusters['label']=kmeans.labels_\n",
    "polar=clusters.groupby(\"label\").mean().reset_index()\n",
    "polar=pd.melt(polar,id_vars=[\"label\"])\n",
    "fig = px.line_polar(polar, r=\"value\", theta=\"variable\", color=\"label\", line_close=True, height=800,width=1400)\n",
    "fig.show()"
   ]
  },
  {
   "cell_type": "code",
   "execution_count": null,
   "metadata": {},
   "outputs": [],
   "source": [
    "clusters['id'] = kdf['id']\n",
    "clusters.groupby('label').count()['id']"
   ]
  },
  {
   "cell_type": "code",
   "execution_count": null,
   "metadata": {},
   "outputs": [],
   "source": [
    "clusters.to_csv('../data/clusterization.csv', index=False)"
   ]
  }
 ]
}
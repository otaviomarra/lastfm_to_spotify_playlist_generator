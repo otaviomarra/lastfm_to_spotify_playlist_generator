{
 "metadata": {
  "language_info": {
   "codemirror_mode": {
    "name": "ipython",
    "version": 3
   },
   "file_extension": ".py",
   "mimetype": "text/x-python",
   "name": "python",
   "nbconvert_exporter": "python",
   "pygments_lexer": "ipython3",
   "version": "3.8.5-final"
  },
  "orig_nbformat": 2,
  "kernelspec": {
   "name": "python2",
   "display_name": "Python 2",
   "language": "python"
  }
 },
 "nbformat": 4,
 "nbformat_minor": 2,
 "cells": [
  {
   "cell_type": "code",
   "execution_count": 1,
   "metadata": {},
   "outputs": [],
   "source": [
    "import json\n",
    "import time\n",
    "import base64\n",
    "import requests as re\n",
    "\n",
    "import pandas as pd\n",
    "from selenium import webdriver\n",
    "\n",
    "app_client_id = '6cb782c1b0404843b3e5a06e8361cb6e'\n",
    "app_client_secret = 'a32c28deab714fa89091395089cbca90'\n",
    "#G1x1@*DxnjEf0zeTCh"
   ]
  },
  {
   "cell_type": "code",
   "execution_count": null,
   "metadata": {},
   "outputs": [],
   "source": [
    "##APP\n",
    "#Authentication - getting an access token - this won't let us make any changes to a user we need a user auth path\n",
    "auth_response = re.post(\n",
    "    url='https://accounts.spotify.com/api/token', \n",
    "    params={\n",
    "        'grant_type': 'client_credentials',\n",
    "        'client_id': app_client_id,\n",
    "        'client_secret': app_client_secret,\n",
    "        })\n",
    "\n",
    "# convert the response to JSON\n",
    "auth_response_data = auth_response.json()\n",
    "\n",
    "# save the access token\n",
    "access_token = auth_response_data['access_token']\n",
    "\n",
    "#create a header with the access token\n",
    "headers = {'Authorization': f'Bearer {access_token}'}"
   ]
  },
  {
   "cell_type": "code",
   "execution_count": 2,
   "metadata": {},
   "outputs": [],
   "source": [
    "#Use the requests lib to generate the url only but withouth making the request, we only want the url to open it on Selenium\n",
    "#https://requests.kennethreitz.org/en/master/user/advanced/#prepared-requests\n",
    "#App Authorization request\n",
    "redirect_uri = 'https://www.google.com'\n",
    "params={\n",
    "    'client_id': app_client_id,\n",
    "    'response_type': 'code',\n",
    "    'redirect_uri': redirect_uri,\n",
    "    'scope': 'playlist-modify-public'\n",
    "    }\n",
    "\n",
    "#r = re.get(url=f'https://accounts.spotify.com/authorize', params=params)\n",
    "\n",
    "prep_request = re.Request('GET', 'https://accounts.spotify.com/authorize', params=params).prepare()"
   ]
  },
  {
   "cell_type": "code",
   "execution_count": 3,
   "metadata": {},
   "outputs": [],
   "source": [
    "#(geckoboard driver downloadad and added to the scripts path for now)\n",
    "driver = webdriver.Firefox()\n",
    "\n",
    "driver.get(prep_request.url)\n",
    "time.sleep(30)\n",
    "authenticated_url = driver.current_url\n",
    "\n",
    "#get the authorization code from the response\n",
    "authorization_code = authenticated_url.split('?')[1].replace('code=','')"
   ]
  },
  {
   "cell_type": "code",
   "execution_count": null,
   "metadata": {},
   "outputs": [],
   "source": [
    "#(geckoboard driver downloadad and added to the scripts path for now)\n",
    "def user_authorization_code(url, redirect_uri)\n",
    "    \"\"\"\n",
    "    Open Firefox on Selenium to authenticate the Spotify user\n",
    "    \n",
    "    For now, it is required for the user to have both Firefox installed and the geckodriver on PATH \n",
    "        but in the future I'll think on a better solution for on Docker\n",
    "\n",
    "    Returns the authentication code to be used on the second step of the verification (after user add credentials)\n",
    "    \"\"\"\n",
    "    driver = webdriver.Firefox()\n",
    "    driver.get(url)\n",
    "\n",
    "    while not driver.current_url.startswith(redirect_uri):\n",
    "        continue\n",
    "\n",
    "    return authenticated_url.split('?')[1].replace('code=','')\n",
    "\n",
    "authorization_code = user_authorization_code(url=prep_request.urlm redirect_uri=redirect_uri)"
   ]
  },
  {
   "cell_type": "code",
   "execution_count": 4,
   "metadata": {},
   "outputs": [
    {
     "output_type": "stream",
     "name": "stdout",
     "text": [
      "200\n{\"access_token\":\"BQC3w6dclYi9iE-4ezjQSUEMXYmY0rfR6nlI9dSCPTi6LXanVAyncrmXVaIzj5xzg44Qzv1SjXbBNVouTWNMj2dLYEDPHPl2Bc9kRPtXRU_4HV5jOa9SnaUto16DTDEFgTO73xve2hDhNytWNvq4fw1m8TY31gzT0pFAOJ6uaxEnyg\",\"token_type\":\"Bearer\",\"expires_in\":3600,\"refresh_token\":\"AQAcRD69tdPmr-me9RcWh8O8k7tea_8_7Jk3rE2X-KnD4baeaza91yFqSS8Av1wfkLeJcJWWmMFTUraA0gYKqlKoHxMRu3WC92QLU8qzgOO-uUqxkA3vLV9LAX8s34KlOYk\",\"scope\":\"playlist-modify-public\"}\n"
     ]
    }
   ],
   "source": [
    "#App request refresh and access tokens\n",
    "auth_pass = app_client_id + ':' + app_client_secret\n",
    "b64_auth_pass = base64.b64encode(auth_pass.encode('utf-8')).decode()\n",
    "r = re.post(\n",
    "    url='https://accounts.spotify.com/api/token', \n",
    "    headers= {'Authorization': f'Basic {b64_auth_pass}'},\n",
    "    data={\n",
    "        'grant_type': 'authorization_code',\n",
    "        'code': authorization_code,\n",
    "        'redirect_uri': redirect_uri,})\n",
    "print(f'Status code: {r.status_code}')\n",
    "print(f'Access Token: {r.json()['access_token']}')"
   ]
  }
 ]
}
{
 "metadata": {
  "language_info": {
   "codemirror_mode": {
    "name": "ipython",
    "version": 3
   },
   "file_extension": ".py",
   "mimetype": "text/x-python",
   "name": "python",
   "nbconvert_exporter": "python",
   "pygments_lexer": "ipython3",
   "version": "3.8.5"
  },
  "orig_nbformat": 2,
  "kernelspec": {
   "name": "python2",
   "display_name": "Python 2",
   "language": "python"
  }
 },
 "nbformat": 4,
 "nbformat_minor": 2,
 "cells": [
  {
   "cell_type": "code",
   "execution_count": 29,
   "metadata": {},
   "outputs": [],
   "source": [
    "import json\n",
    "import time\n",
    "import base64\n",
    "import requests as re\n",
    "\n",
    "import pandas as pd\n",
    "from selenium import webdriver\n",
    "\n",
    "app_client_id = '6cb782c1b0404843b3e5a06e8361cb6e'\n",
    "app_client_secret = 'a32c28deab714fa89091395089cbca90'\n",
    "#G1x1@*DxnjEf0zeTCh"
   ]
  },
  {
   "cell_type": "code",
   "execution_count": 41,
   "metadata": {},
   "outputs": [
    {
     "output_type": "stream",
     "name": "stdout",
     "text": [
      "https://accounts.spotify.com/authorize?client_id=6cb782c1b0404843b3e5a06e8361cb6e&response_type=code&redirect_uri=https%3A%2F%2Fwww.google.com&scope=playlist-modify-public+user-read-private\n"
     ]
    }
   ],
   "source": [
    "#Use the requests lib to generate the url only but withouth making the request, we only want the url to open it on Selenium\n",
    "#https://requests.kennethreitz.org/en/master/user/advanced/#prepared-requests\n",
    "#App Authorization request\n",
    "redirect_uri = 'https://www.google.com'\n",
    "params={\n",
    "    'client_id': app_client_id,\n",
    "    'response_type': 'code',\n",
    "    'redirect_uri': redirect_uri,\n",
    "    'scope': 'playlist-modify-public user-read-private'\n",
    "    }\n",
    "\n",
    "#r = re.get(url=f'https://accounts.spotify.com/authorize', params=params)\n",
    "\n",
    "prep_request = re.Request('GET', 'https://accounts.spotify.com/authorize', params=params).prepare()\n",
    "print(prep_request.url)"
   ]
  },
  {
   "cell_type": "code",
   "execution_count": null,
   "metadata": {},
   "outputs": [],
   "source": [
    "#(geckoboard driver downloadad and added to the scripts path for now)\n",
    "driver = webdriver.Firefox()\n",
    "\n",
    "driver.get(prep_request.url)\n",
    "time.sleep(30)\n",
    "authenticated_url = https://www.google.com/?code=AQACQPVxMe3qWOJRe7cqL2ZjU7aMKmKhEKIVgROY7uzj8akvoVH3sXUcR0bs5yK34KEFSJci9keCsloukjp8ZMPm7l0G4P0F2arZCtQpt5c3VPFqGRmmKgzAIdyaN0YhbUwjSiP-GKJfiXkYdpIciun13Byn5nrBUlQ023HhzSzPv4BbVyIFbkqmJ6QzfYz5PhHKSe1tGxNtlOyuyMuDyeL_mxe1\n",
    "\n",
    "#get the authorization code from the response\n",
    "authorization_code = authenticated_url.split('?')[1].replace('code=','')"
   ]
  },
  {
   "cell_type": "code",
   "execution_count": 42,
   "metadata": {},
   "outputs": [],
   "source": [
    "authenticated_url = 'https://www.google.com/?code=AQB1RQ13WAHqh4L1Uk1kiPOG4if2TOGQ3YQBczXx2tMklvYVB7Cz-T87Zz6kr1UaU0vWU1krcA2P_74th7OzZ5Fb2fp5wKU5F7s61iLWnuJm2oMnshC4wVjHFpYgkR5u2We1_2KgPGK1ianiPT4Xxq9MFwEJuqW0lx8y4CcwkAaZLyFhL7kfeLdE74cel_Qkf4O03zMG8uI-MCww2R0ncsANKR-t'\n",
    "\n",
    "#get the authorization code from the response\n",
    "authorization_code = authenticated_url.split('?')[1].replace('code=','')"
   ]
  },
  {
   "cell_type": "code",
   "execution_count": 43,
   "metadata": {},
   "outputs": [
    {
     "output_type": "stream",
     "name": "stdout",
     "text": [
      "Status code: 200\n"
     ]
    }
   ],
   "source": [
    "#App request refresh and access tokens\n",
    "auth_pass = app_client_id + ':' + app_client_secret\n",
    "b64_auth_pass = base64.b64encode(auth_pass.encode('utf-8')).decode()\n",
    "r = re.post(\n",
    "    url='https://accounts.spotify.com/api/token', \n",
    "    headers= {'Authorization': f'Basic {b64_auth_pass}'},\n",
    "    data={\n",
    "        'grant_type': 'authorization_code',\n",
    "        'code': authorization_code,\n",
    "        'redirect_uri': redirect_uri,})\n",
    "print(f'Status code: {r.status_code}')\n",
    "#print(f'Access Token: {r.json()['access_token']}')\n",
    "access_token = r.json()['access_token']"
   ]
  },
  {
   "cell_type": "code",
   "execution_count": 44,
   "metadata": {},
   "outputs": [
    {
     "output_type": "execute_result",
     "data": {
      "text/plain": [
       "{'country': 'BR',\n",
       " 'display_name': 'ommarra',\n",
       " 'explicit_content': {'filter_enabled': False, 'filter_locked': False},\n",
       " 'external_urls': {'spotify': 'https://open.spotify.com/user/ommarra'},\n",
       " 'followers': {'href': None, 'total': 35},\n",
       " 'href': 'https://api.spotify.com/v1/users/ommarra',\n",
       " 'id': 'ommarra',\n",
       " 'images': [{'height': None,\n",
       "   'url': 'https://i.scdn.co/image/ab6775700000ee855fb68d18881052b34776c707',\n",
       "   'width': None}],\n",
       " 'product': 'premium',\n",
       " 'type': 'user',\n",
       " 'uri': 'spotify:user:ommarra'}"
      ]
     },
     "metadata": {},
     "execution_count": 44
    }
   ],
   "source": [
    "r = re.get(url='https://api.spotify.com/v1/me',\n",
    "            headers={'Authorization': f'Bearer {access_token}'})\n",
    "\n",
    "r.json()"
   ]
  }
 ]
}
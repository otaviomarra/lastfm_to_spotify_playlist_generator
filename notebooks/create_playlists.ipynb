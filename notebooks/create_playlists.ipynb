{
 "metadata": {
  "language_info": {
   "codemirror_mode": {
    "name": "ipython",
    "version": 3
   },
   "file_extension": ".py",
   "mimetype": "text/x-python",
   "name": "python",
   "nbconvert_exporter": "python",
   "pygments_lexer": "ipython3",
   "version": "3.8.5-final"
  },
  "orig_nbformat": 2,
  "kernelspec": {
   "name": "python37564bit5c3fa59fa4044b95a227c8834cb0cedd",
   "display_name": "Python 3.7.5 64-bit",
   "language": "python"
  }
 },
 "nbformat": 4,
 "nbformat_minor": 2,
 "cells": [
  {
   "cell_type": "code",
   "execution_count": 3,
   "metadata": {},
   "outputs": [],
   "source": [
    "import time\n",
    "import json\n",
    "import datetime\n",
    "from math import ceil\n",
    "from datetime import date, timedelta, datetime\n",
    "\n",
    "import spotipy\n",
    "import spotipy.util as util\n",
    "import numpy as np\n",
    "import pandas as pd\n",
    "import requests_cache\n",
    "import requests as re"
   ]
  },
  {
   "cell_type": "code",
   "execution_count": 80,
   "metadata": {},
   "outputs": [],
   "source": [
    "df = pd.read_csv('../data/clusterization.csv')\n",
    "df = df[['label', 'id']]\n",
    "#Generate the spotify uris following their standardized pattern\n",
    "df['uris'] = 'spotify:track:' + df['id']"
   ]
  },
  {
   "source": [
    "#### [get your token here](https://developer.spotify.com/console/post-playlist-tracks/?playlist_id=%7Bplaylist%7D&position=&uris=spotify%3Atrack%3A7uuWlqHI41LkdXn4pcqI1h%2Cspotify%3Atrack%3A15jdwHb5nOWJrxXvPavXTR%2Cspotify%3Atrack%3A2LwM4JgvJ3SiIaQOIXJT6n)"
   ],
   "cell_type": "markdown",
   "metadata": {}
  },
  {
   "cell_type": "code",
   "execution_count": 72,
   "metadata": {},
   "outputs": [],
   "source": [
    "#authentication. for now it is a manyally requst token but I'll come back to that later\n",
    "access_token = 'BQA0P4vTq7_VpbAZMdd_xwrRY1-4_WuaxWYMPYkEID-nNf-3Tu7Dw_zpwZJn-aLB3vyKOGUAxpZOfcGy95MBN3GksyXwo3Ro7aoxIA58TMrq04GQdqWSzFu2Lp7fv_uxjCDKgIY-bkjKhpztJyTYeLIEKo0Rjo8Jv8kQG_kC8CP-CSl7CXZt61eVK5fqkPTP8iFA2MBL'\n",
    "headers = {f'Content-Type\":\"application/json\", \"Authorization\":\"Bearer {access_token}'}\n",
    "user_id = 'ommarra'"
   ]
  },
  {
   "source": [
    "### Creating the playlists\n",
    "\n",
    "**IMPORTANT:** the playlists should either be created at the same time or we'd need to manually create the playlists array with their ids\n",
    "If needed, you can manually delete the playlists on Spotify and then re-create them"
   ],
   "cell_type": "markdown",
   "metadata": {}
  },
  {
   "cell_type": "code",
   "execution_count": 9,
   "metadata": {},
   "outputs": [],
   "source": [
    "endpoint_url = f'https://api.spotify.com/v1/users/{user_id}/playlists'\n",
    "\n",
    "playlists = {}\n",
    "for i in range(len(df['label'].unique())):\n",
    "    label = df['label'].unique()[i].item()\n",
    "    playlist_name = f'k-means-cluster-0 {label}'\n",
    "    request_body = json.dumps({\n",
    "            \"name\": playlist_name,\n",
    "            \"description\": \"k means generated. probably shitty\",\n",
    "            \"public\": True\n",
    "            })\n",
    "    r = re.post(url=endpoint_url, data=request_body, headers=headers)\n",
    "    #generate a dict with the labels and the playlist id - this will be used to add the songs later\n",
    "    playlists[label] = r.json()['id']"
   ]
  },
  {
   "source": [
    "### Adding songs to the playlists"
   ],
   "cell_type": "markdown",
   "metadata": {}
  },
  {
   "cell_type": "code",
   "execution_count": 113,
   "metadata": {},
   "outputs": [],
   "source": [
    "def add_songs_to_playlist(songs, playlist):\n",
    "    \"\"\"\n",
    "    Makes the API request to add songs on an existing Spotify playlist\n",
    "    Receives a string with all the songs uris on a csv format (up to 100 at a time) and the playlist id\n",
    "    It works on batches of up to 100 songs at a single time\n",
    "\n",
    "    Returns None\n",
    "    \"\"\"\n",
    "    url = f'https://api.spotify.com/v1/playlists/{playlist}/tracks'\n",
    "    data = json.dumps({ 'uris': songs })\n",
    "    response = re.post(url=url, data=data, headers=headers)\n",
    "    print(response.json())"
   ]
  },
  {
   "cell_type": "code",
   "execution_count": 118,
   "metadata": {
    "tags": []
   },
   "outputs": [
    {
     "output_type": "stream",
     "name": "stdout",
     "text": [
      "{'snapshot_id': 'MywwNjY0NjkxMTk4M2E2NmFhMmM1NzE2YzE3ZjM0NWM1OTdmYjllZjMw'}\n",
      "{'snapshot_id': 'NCw1YmFmMTY0NDA4M2Y5MTY2ZDY0M2JlOWQzYWM5NjBkMzRlMGJkMzBi'}\n",
      "{'snapshot_id': 'MywyOWJiYWYyMGQ3OTkyNDliOGFhMTE4MmVhYTdhNTViNjY1ZmJmZDMy'}\n",
      "{'snapshot_id': 'NCxiYTJmOTVhOGJmYmQ4MTRjMTg1MDIzN2E3ZjYwZjlkYzJhZDY2MTcy'}\n",
      "{'snapshot_id': 'Myw1Mjk5MWZmMjFmM2FiZTFkNjhkY2Y3ZWQyN2VmZjk4OGMyMDNlMTY2'}\n",
      "{'snapshot_id': 'NCxmMjkzODQyNDFhMDU1NjI2NDA4ZGUyYjVjMTdiMmRmYmFlMzliM2Vi'}\n",
      "{'snapshot_id': 'MyxjODFmZThkZTdmN2NlODA5YmQxYjA1NTc3M2RkNTZmY2EwYzRiNDcx'}\n",
      "{'snapshot_id': 'NCw0Yzc0YzFhNDM2YWZhMDdjNDMzNjI0OGM2YmMxZTVmMDJiZmVmNmY5'}\n"
     ]
    }
   ],
   "source": [
    "for key in playlists:\n",
    "    playlist = playlists[key]\n",
    "    #150 songs per playlist is a good starter. Later on I'd like to also limit the number of songs from the same artist\n",
    "    tempdf = df[df['label'] == key].sample(150) \n",
    "    #break it even to post the ids in chunks (respecting the api limitation off batches of 100s)\n",
    "    splits = ceil(len(tempdf)/100)\n",
    "    chunks = np.array_split(tempdf, splits)\n",
    "    #format and call the function to every chunk\n",
    "    for i in range(len(chunks)):\n",
    "        songs = chunks[i]['uris'].to_json(orient='records')\n",
    "        add_songs_to_playlist(songs=json.loads(songs), playlist=playlist)        "
   ]
  }
 ]
}
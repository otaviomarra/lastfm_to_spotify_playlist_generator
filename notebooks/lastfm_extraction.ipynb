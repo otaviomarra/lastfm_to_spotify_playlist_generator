{
 "cells": [
  {
   "cell_type": "code",
   "execution_count": 6,
   "metadata": {},
   "outputs": [],
   "source": [
    "import time\n",
    "import requests as re\n",
    "from datetime import date, time\n",
    "\n",
    "import requests_cache\n",
    "from IPython.core.display import clear_output"
   ]
  },
  {
   "source": [
    "## Lastfm API - my played tracks API"
   ],
   "cell_type": "markdown",
   "metadata": {}
  },
  {
   "cell_type": "code",
   "execution_count": 7,
   "metadata": {},
   "outputs": [],
   "source": [
    "#create a request cache\n",
    "requests_cache.install_cache('../cache/get_recent_tracks_cache')"
   ]
  },
  {
   "cell_type": "code",
   "execution_count": 8,
   "metadata": {},
   "outputs": [],
   "source": [
    "# define a function to generate the array for each response\n",
    "def structure_table(artist, song, date):\n",
    "    \"\"\"\n",
    "    Receive all attributes from the json and structure them on a list following the desired table format\n",
    "    \n",
    "    Returns a list with the values of one row\n",
    "    \"\"\"\n",
    "    arr  = [artist, song, date]\n",
    "    return arr\n",
    "\n",
    "#define an \n",
    "def page_iterator(response):\n",
    "    \"\"\"\n",
    "    Iteration fuction to work on each request page.\n",
    "    The input is the json from the API request,  \n",
    "        runs the structure_table function and append it to a final response list\n",
    "\n",
    "    Returns None\n",
    "    \"\"\"\n",
    "    for i in range(len(response)):\n",
    "        r = structure_table(response[i]['artist']['#text'],response[i]['name'], response[i]['mbid'], response[i]['date']['uts'])\n",
    "        responses.append(r)"
   ]
  },
  {
   "cell_type": "code",
   "execution_count": 9,
   "metadata": {},
   "outputs": [],
   "source": [
    "#Get the tracks played from 2020 until yesterday\n",
    "_from = int(time.mktime(datetime.date(2021,1,1).timetuple()))\n",
    "\n",
    "responses = []\n",
    "#Define header\n",
    "headers = {'user-agent': 'my_played_tracks'}\n",
    "\n",
    "#First request\n",
    "params = {\n",
    "        'method': 'user.getrecenttracks',\n",
    "        'limit': 200,\n",
    "        'api_key': 'cf786f78db52a45f40f6e7b573b7d211',\n",
    "        'format': 'json',\n",
    "        'user': 'ommarra',\n",
    "        'extended': 0,\n",
    "        'from':_from,\n",
    "        'page': 1\n",
    "        }\n",
    "\n",
    "response = re.get('http://ws.audioscrobbler.com/2.0/', headers = headers, params = params)\n",
    "response = response.json()['recenttracks']\n",
    "page_iterator(response['track'])\n",
    "\n",
    "#Get the total pages\n",
    "total_pages = int(response['@attr']['totalPages'])\n",
    "page = int(response['@attr']['page']) + 1"
   ]
  },
  {
   "cell_type": "code",
   "execution_count": 5,
   "metadata": {},
   "outputs": [
    {
     "output_type": "stream",
     "name": "stdout",
     "text": [
      "requesting page 62 from 62 pages\n"
     ]
    }
   ],
   "source": [
    "#loop through all other pages\n",
    "while page <= total_pages:\n",
    "    clear_output(wait=True)\n",
    "    print(\"requesting page\", page, \"from\", total_pages, \"pages\")\n",
    "\n",
    "    params = {\n",
    "        'method': 'user.getrecenttracks',\n",
    "        'limit': 200,\n",
    "        'api_key': 'cf786f78db52a45f40f6e7b573b7d211',\n",
    "        'format': 'json',\n",
    "        'user': 'ommarra',\n",
    "        'extended': 0,\n",
    "        'from': _from,\n",
    "        'page': page\n",
    "        }\n",
    "\n",
    "    response = re.get('http://ws.audioscrobbler.com/2.0/', headers = headers, params = params)\n",
    "    \n",
    "    if response.status_code == 200:\n",
    "        response = response.json()['recenttracks']\n",
    "        page_iterator(response['track'])\n",
    "    else:\n",
    "        print(\"error:\", response.status_code)\n",
    "        break\n",
    "    \n",
    "    # If not cached, sleep to keep the api requests per second low\n",
    "    if not getattr(response, 'from_cache', False):\n",
    "        time.sleep(0.2)\n",
    "\n",
    "    page = int(response['@attr']['page']) + 1"
   ]
  },
  {
   "cell_type": "code",
   "execution_count": 6,
   "metadata": {},
   "outputs": [],
   "source": [
    "#Saving the results to a csv file\n",
    "pd.DataFrame(data=responses, columns=['artist', 'song', 'unix_timestamp']).to_csv(\"../data/played_tracks.csv\", index = False)"
   ]
  }
 ],
 "metadata": {
  "kernelspec": {
   "display_name": "Python 3",
   "language": "python",
   "name": "python3"
  },
  "language_info": {
   "codemirror_mode": {
    "name": "ipython",
    "version": 3
   },
   "file_extension": ".py",
   "mimetype": "text/x-python",
   "name": "python",
   "nbconvert_exporter": "python",
   "pygments_lexer": "ipython3",
   "version": "3.8.5-final"
  }
 },
 "nbformat": 4,
 "nbformat_minor": 4
}